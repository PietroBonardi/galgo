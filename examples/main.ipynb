{
 "cells": [
  {
   "cell_type": "code",
   "execution_count": 1,
   "metadata": {},
   "outputs": [],
   "source": [
    "from genealgo.components.parents import RouletteWheelSelector\n",
    "from genealgo.components.crossover import SinglePointCrossOver\n",
    "from genealgo.components.mutator import RandomResettingMutator\n",
    "\n",
    "from genealgo.algo.genetic_algorithm import GeneticAlgo"
   ]
  },
  {
   "cell_type": "code",
   "execution_count": 2,
   "metadata": {},
   "outputs": [],
   "source": [
    "from genealgo.components.population import Population  # define your Population\n",
    "from genealgo.components.fitness import Fitness  # define your fitness\n",
    "\n",
    "from typing import Tuple\n",
    "import string\n",
    "import random\n",
    "import Levenshtein\n",
    "\n",
    "\n",
    "class StringPopulation(Population):\n",
    "    def __init__(\n",
    "        self,\n",
    "        pop_size: int = 10,\n",
    "        individual_size: Tuple[int, int] = (1, 10),\n",
    "    ) -> None:\n",
    "        super().__init__(pop_size)\n",
    "        self._ind_lb_size, self._ind_up_size = self.set_individual_size(individual_size)\n",
    "\n",
    "    def set_individual_size(self, individual_size: Tuple[int, int]) -> Tuple[int, int]:\n",
    "        lb, up = individual_size\n",
    "        assert (\n",
    "            lb > 0 and up > 0 and lb < up + 1\n",
    "        ), f\"😵‍💫 Invalid size range: ({lb}, {up})\"\n",
    "\n",
    "        return lb, up + 1\n",
    "\n",
    "    def generate_individual(self) -> str:\n",
    "        return \"\".join(\n",
    "            random.choice(string.ascii_lowercase)\n",
    "            for _ in range(random.choice(range(self._ind_lb_size, self._ind_up_size)))\n",
    "        )\n",
    "\n",
    "\n",
    "class LevenshteinFitness(Fitness):\n",
    "\n",
    "    def __init__(self, target_value: str) -> None:\n",
    "        super().__init__()\n",
    "        self.target_value = target_value\n",
    "\n",
    "    def evaluate(self, individual: str) -> float:\n",
    "        distance = Levenshtein.distance(self.target_value, individual)\n",
    "        # Inverse to get a fitness\n",
    "        return 1 / (distance + 1)"
   ]
  },
  {
   "cell_type": "code",
   "execution_count": 3,
   "metadata": {},
   "outputs": [],
   "source": [
    "randomwords = StringPopulation(individual_size=(2, 50), pop_size=1000).generate()\n",
    "levenfit = LevenshteinFitness(\"hello\")\n",
    "\n",
    "# GA\n",
    "rws = RouletteWheelSelector()\n",
    "spco = SinglePointCrossOver()\n",
    "rrm = RandomResettingMutator(\n",
    "    mutation_rate=0.10,\n",
    "    characteristic=string.ascii_lowercase,\n",
    ")\n",
    "# * init \n",
    "ga = GeneticAlgo(\n",
    "    fitness=levenfit,\n",
    "    parent_selector=rws,\n",
    "    crossover=spco,\n",
    "    mutator=rrm,\n",
    "    generations=250,\n",
    ")"
   ]
  },
  {
   "cell_type": "code",
   "execution_count": 4,
   "metadata": {},
   "outputs": [
    {
     "data": {
      "text/plain": [
       "'hello'"
      ]
     },
     "execution_count": 4,
     "metadata": {},
     "output_type": "execute_result"
    }
   ],
   "source": [
    "# * run \n",
    "best_genes = ga(randomwords)\n",
    "\"\".join(best_genes[-1])"
   ]
  }
 ],
 "metadata": {
  "kernelspec": {
   "display_name": "Python 3",
   "language": "python",
   "name": "python3"
  },
  "language_info": {
   "codemirror_mode": {
    "name": "ipython",
    "version": 3
   },
   "file_extension": ".py",
   "mimetype": "text/x-python",
   "name": "python",
   "nbconvert_exporter": "python",
   "pygments_lexer": "ipython3",
   "version": "3.12.5"
  }
 },
 "nbformat": 4,
 "nbformat_minor": 2
}
